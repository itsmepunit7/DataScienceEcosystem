{
 "cells": [
  {
   "cell_type": "markdown",
   "id": "ab480b37-162b-4add-a3ce-a8b488985659",
   "metadata": {},
   "source": [
    "# Data Science Tools and Ecosystem"
   ]
  },
  {
   "cell_type": "markdown",
   "id": "73cf40ba-c836-47bd-a8a6-353887272dd0",
   "metadata": {},
   "source": [
    "In this notebook, Data Science Tools and Ecosystem are summarized."
   ]
  },
  {
   "cell_type": "markdown",
   "id": "5867f3b7-1777-4b55-9a81-2677808c7a0f",
   "metadata": {},
   "source": [
    "Some of the popular languages that Data Scientists use are:\n",
    "1. Java\n",
    "2. C++\n",
    "3. Python\n",
    "4. SQL\n",
    "5. R "
   ]
  },
  {
   "cell_type": "markdown",
   "id": "b8fe59eb-8852-4fc9-a7ee-9f9b429d2ac1",
   "metadata": {},
   "source": [
    "Some of the commonly used libraries used by Data Scientists include:\n",
    "1. Tensor Flow\n",
    "2. NumPy\n",
    "3. SciPy\n",
    "4. Keras\n",
    "5. SciKit-Learn\n",
    "6. Pandas\n",
    "7. Matplotlib"
   ]
  },
  {
   "cell_type": "markdown",
   "id": "a826a566-4ca5-4bf3-8259-c8c0aee68550",
   "metadata": {
    "tags": []
   },
   "source": [
    "| Data Science Tools |\n",
    "|------------------- |\n",
    "| SAS |\n",
    "| Apache Hadoop |\n",
    "| TensorFlow |"
   ]
  },
  {
   "cell_type": "markdown",
   "id": "4cc4763d-fca7-4935-b1a9-80c21098b652",
   "metadata": {},
   "source": [
    "### Below are a few examples of evaluating arithmetic expressions in Python."
   ]
  },
  {
   "cell_type": "code",
   "execution_count": 5,
   "id": "aa0ce7e6-6966-4975-9ee1-f18cf445628c",
   "metadata": {
    "tags": []
   },
   "outputs": [
    {
     "data": {
      "text/plain": [
       "17"
      ]
     },
     "execution_count": 5,
     "metadata": {},
     "output_type": "execute_result"
    }
   ],
   "source": [
    "# This a simple arithmetic expression to mutiply then add integers\n",
    "(3*4)+5"
   ]
  },
  {
   "cell_type": "code",
   "execution_count": 6,
   "id": "954e8ff6-50a3-49c6-b573-62136ef83c97",
   "metadata": {
    "tags": []
   },
   "outputs": [
    {
     "data": {
      "text/plain": [
       "3.3333333333333335"
      ]
     },
     "execution_count": 6,
     "metadata": {},
     "output_type": "execute_result"
    }
   ],
   "source": [
    "# This will convert 200 minutes to hours by diving by 60\n",
    "200/60"
   ]
  },
  {
   "cell_type": "markdown",
   "id": "1fae8520-ef4a-42a3-89e0-3d84197a687f",
   "metadata": {
    "tags": []
   },
   "source": [
    "__Objectives:__\n",
    "* List popular launguages for Data Science\n",
    "* List popular libraries for Data Science\n",
    "* List of well known Data Science Tools\n",
    "* How to Provide comments in the cell"
   ]
  },
  {
   "cell_type": "markdown",
   "id": "792a68c1-fb99-429c-8eee-615285b1a0f0",
   "metadata": {},
   "source": [
    "## Author\n",
    "Puneet"
   ]
  },
  {
   "cell_type": "code",
   "execution_count": null,
   "id": "3c1148f1-a516-4108-8667-a26370900d76",
   "metadata": {},
   "outputs": [],
   "source": []
  }
 ],
 "metadata": {
  "kernelspec": {
   "display_name": "Python",
   "language": "python",
   "name": "conda-env-python-py"
  },
  "language_info": {
   "codemirror_mode": {
    "name": "ipython",
    "version": 3
   },
   "file_extension": ".py",
   "mimetype": "text/x-python",
   "name": "python",
   "nbconvert_exporter": "python",
   "pygments_lexer": "ipython3",
   "version": "3.7.12"
  }
 },
 "nbformat": 4,
 "nbformat_minor": 5
}
